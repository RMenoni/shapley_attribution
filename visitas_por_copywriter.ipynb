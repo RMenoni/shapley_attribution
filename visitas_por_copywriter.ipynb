{
 "cells": [
  {
   "cell_type": "code",
   "execution_count": 26,
   "metadata": {},
   "outputs": [],
   "source": [
    "import pandas as pd\n",
    "import pickle"
   ]
  },
  {
   "cell_type": "code",
   "execution_count": 27,
   "metadata": {},
   "outputs": [],
   "source": [
    "with open('copywriters.pickle', 'rb') as file:\n",
    "    writers = pickle.load(file)"
   ]
  },
  {
   "cell_type": "code",
   "execution_count": 28,
   "metadata": {},
   "outputs": [],
   "source": [
    "df = pd.read_csv('visitas_por_copy.csv')"
   ]
  },
  {
   "cell_type": "code",
   "execution_count": 29,
   "metadata": {},
   "outputs": [],
   "source": [
    "df['copywriter'] = df['copy'].apply(lambda x: writers.get(x, ''))"
   ]
  },
  {
   "cell_type": "code",
   "execution_count": 30,
   "metadata": {},
   "outputs": [],
   "source": [
    "visit_dict = df.groupby('copywriter').sum().to_dict()['visits']"
   ]
  },
  {
   "cell_type": "code",
   "execution_count": 31,
   "metadata": {},
   "outputs": [
    {
     "data": {
      "text/plain": [
       "{'': 4935197,\n",
       " 'Alessandra Mantovani - Backend': 7389,\n",
       " 'Alessandra Mantovani - Frontend': 288000,\n",
       " 'Amanda Gregório - Frontend': 88736,\n",
       " 'Daniel Jordão - Frontend': 77,\n",
       " 'Daniela de Piccoli - Backend': 198761,\n",
       " 'Daniela de Piccoli - Frontend': 1210961,\n",
       " 'Eduardo Lima - Backend': 185282,\n",
       " 'Eduardo Lima - Frontend': 218564,\n",
       " 'Frederico Rosas - Backend': 67459,\n",
       " 'Frederico Rosas - Frontend': 19349,\n",
       " 'Gabriela Andrade - Backend': 118,\n",
       " 'Gabriela Andrade - Frontend': 39,\n",
       " 'Giovanna Santurbano - Backend': 5513,\n",
       " 'Giovanna Santurbano - Frontend': 163151,\n",
       " 'Gustavo Rosa - Backend': 710693,\n",
       " 'Gustavo Rosa - Frontend': 230957,\n",
       " 'Helena de Guide - Backend': 433617,\n",
       " 'Helena de Guide - Frontend': 485474,\n",
       " 'Hudson Almeida - Backend': 138222,\n",
       " 'Hudson Almeida - Frontend': 488493,\n",
       " 'Juliano Coelho - Backend': 91492,\n",
       " 'Juliano Coelho - Frontend': 846212,\n",
       " 'Marcel - Frontend': 251,\n",
       " 'Rafael Albertoni - Backend': 174216,\n",
       " 'Renato Torelli - Backend': 213652,\n",
       " 'Renato Torelli - Frontend': 1021854,\n",
       " 'Roberto Altenhofen - Backend': 1481328,\n",
       " 'Roberto Altenhofen - Frontend': 2351655,\n",
       " 'Victor Weiler - Backend': 541086,\n",
       " 'Victor Weiler - Frontend': 3346717}"
      ]
     },
     "execution_count": 31,
     "metadata": {},
     "output_type": "execute_result"
    }
   ],
   "source": [
    "visit_dict"
   ]
  },
  {
   "cell_type": "code",
   "execution_count": 24,
   "metadata": {},
   "outputs": [],
   "source": [
    "frontend = pd.DataFrame([(k, v) for k, v in visit_dict.items() if 'Frontend' in k])\n",
    "backend = pd.DataFrame([(k, v) for k, v in visit_dict.items() if 'Backend' in k])"
   ]
  },
  {
   "cell_type": "code",
   "execution_count": 25,
   "metadata": {},
   "outputs": [],
   "source": [
    "frontend.to_excel('frontend_visits.xlsx')\n",
    "backend.to_excel('backend_visits.xlsx')"
   ]
  }
 ],
 "metadata": {
  "kernelspec": {
   "display_name": "Python 3",
   "language": "python",
   "name": "python3"
  },
  "language_info": {
   "codemirror_mode": {
    "name": "ipython",
    "version": 3
   },
   "file_extension": ".py",
   "mimetype": "text/x-python",
   "name": "python",
   "nbconvert_exporter": "python",
   "pygments_lexer": "ipython3",
   "version": "3.6.4"
  }
 },
 "nbformat": 4,
 "nbformat_minor": 2
}
